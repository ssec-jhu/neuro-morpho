{
 "cells": [
  {
   "cell_type": "code",
   "execution_count": null,
   "metadata": {},
   "outputs": [],
   "source": [
    "# Copy train images to  \"target_folder\"\n",
    "from pathlib import Path\n",
    "import itertools\n",
    "import re\n",
    "import random\n",
    "import shutil\n",
    "\n",
    "# Specify the directories\n",
    "raw_data_folder = Path('/Users/vkluzner/OneDrive/NeuralMorphology/SimulationsNew_Tif3334/images/')\n",
    "processed_folder = Path('/Users/vkluzner/OneDrive/NeuralMorphology/SimulationsNew_Tif3334/neuro-morpho/')\n",
    "\n",
    "# Ensure the destination folders exist\n",
    "for dir_path, subdir in itertools.product([Path('train'), Path('val'), Path('test')], [\"imgs\", \"lbls\"]):\n",
    "    (processed_folder / dir_path / subdir).mkdir(parents=True, exist_ok=True)\n",
    "\n",
    "# List all image files in the raw_data_folder\n",
    "image_files = sorted(list(Path(raw_data_folder).glob(\"Realistic-SBR-*\")))\n",
    "\n",
    "# Loop through files and organize them\n",
    "for image_name in image_files:\n",
    "    label_name = raw_data_folder / re.sub(r\"Realistic-SBR-.\", \"Skeleton\", image_name.name)\n",
    "    if random.random() <= 0.6: # train data\n",
    "        shutil.copy(image_name, processed_folder / 'train' / 'imgs')\n",
    "        new_label_name = processed_folder / 'train' / 'lbls' / image_name.name.replace(\"Realistic-SBR-\", \"Skeleton-\")\n",
    "    elif random.random() <= 0.8: # validation data\n",
    "        shutil.copy(image_name, processed_folder / 'val' / 'imgs')\n",
    "        new_label_name = processed_folder / 'val' / 'lbls' / image_name.name.replace(\"Realistic-SBR-\", \"Skeleton-\")\n",
    "    else: # test data\n",
    "        shutil.copy(image_name, processed_folder / 'test' / 'imgs')\n",
    "        new_label_name = processed_folder / 'test' / 'lbls' / image_name.name.replace(\"Realistic-SBR-\", \"Skeleton-\")\n",
    "    shutil.copy(label_name, new_label_name)\n"
   ]
  }
 ],
 "metadata": {
  "kernelspec": {
   "display_name": "neuro-morpho",
   "language": "python",
   "name": "python3"
  },
  "language_info": {
   "codemirror_mode": {
    "name": "ipython",
    "version": 3
   },
   "file_extension": ".py",
   "mimetype": "text/x-python",
   "name": "python",
   "nbconvert_exporter": "python",
   "pygments_lexer": "ipython3",
   "version": "3.11.11"
  }
 },
 "nbformat": 4,
 "nbformat_minor": 4
}
