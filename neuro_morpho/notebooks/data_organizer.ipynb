{
 "cells": [
  {
   "cell_type": "code",
   "execution_count": null,
   "metadata": {},
   "outputs": [],
   "source": [
    "# Create partition for given images to train/val/test groups\n",
    "import random\n",
    "import re\n",
    "import shutil\n",
    "from concurrent.futures import ThreadPoolExecutor\n",
    "from pathlib import Path\n",
    "\n",
    "from tqdm import tqdm\n",
    "\n",
    "# Specify the directories\n",
    "raw_data_folder = Path(\"/home/idies/workspace/ssec_neural_morphology/SimulationsNew_Tif3334/images/\")\n",
    "processed_folder = Path(\"/home/idies/workspace/ssec_neural_morphology/SimulationsNew_Tif3334/neuro-morpho/\")\n",
    "\n",
    "\n",
    "def process_file(image_name, raw_data_folder, processed_folder):\n",
    "    label_name = raw_data_folder / re.sub(r\"Realistic-SBR-.\", \"Skeleton\", image_name.name)\n",
    "    p = random.random()\n",
    "\n",
    "    if p <= 0.6:  # train\n",
    "        subfolder = \"train\"\n",
    "    elif p <= 0.8:  # validation\n",
    "        subfolder = \"val\"\n",
    "    else:  # test\n",
    "        subfolder = \"test\"\n",
    "\n",
    "    dest_img = processed_folder / subfolder / \"imgs\" / image_name.name\n",
    "    new_label_name = processed_folder / subfolder / \"lbls\" / image_name.name.replace(\"Realistic-SBR-\", \"Skeleton-\")\n",
    "\n",
    "    shutil.copy(image_name, dest_img)\n",
    "    shutil.copy(label_name, new_label_name)\n",
    "\n",
    "\n",
    "def organize_files(raw_data_folder, processed_folder, max_workers=8):\n",
    "    # List all image files in the raw_data_folder\n",
    "    image_files = sorted(list(Path(raw_data_folder).glob(\"Realistic-SBR-*\")))\n",
    "\n",
    "    with ThreadPoolExecutor(max_workers=max_workers) as executor:\n",
    "        list(\n",
    "            tqdm(\n",
    "                executor.map(lambda img: process_file(img, raw_data_folder, processed_folder), image_files),\n",
    "                total=len(image_files),\n",
    "                desc=\"Copying files\",\n",
    "            )\n",
    "        )\n",
    "\n",
    "\n",
    "# Example call:\n",
    "organize_files(raw_data_folder, processed_folder)"
   ]
  }
 ],
 "metadata": {
  "kernelspec": {
   "display_name": "neuro-morpho",
   "language": "python",
   "name": "python3"
  },
  "language_info": {
   "codemirror_mode": {
    "name": "ipython",
    "version": 3
   },
   "file_extension": ".py",
   "mimetype": "text/x-python",
   "name": "python",
   "nbconvert_exporter": "python",
   "pygments_lexer": "ipython3",
   "version": "3.11.11"
  }
 },
 "nbformat": 4,
 "nbformat_minor": 4
}
